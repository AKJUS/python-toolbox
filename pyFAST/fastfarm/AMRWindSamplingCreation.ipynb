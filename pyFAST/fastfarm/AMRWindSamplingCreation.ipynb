{
 "cells": [
  {
   "cell_type": "code",
   "execution_count": 1,
   "id": "verbal-ceramic",
   "metadata": {},
   "outputs": [
    {
     "data": {
      "text/plain": [
       "'\\nWrite out information that is useful for setting up AMR-Wind sampling planes for FAST.Farm,\\n    following guidance from https://openfast.readthedocs.io/en/main/source/user/fast.farm/ModelGuidance.html\\n'"
      ]
     },
     "execution_count": 1,
     "metadata": {},
     "output_type": "execute_result"
    }
   ],
   "source": [
    "'''\n",
    "Write out information that is useful for setting up AMR-Wind sampling planes for FAST.Farm,\n",
    "    following guidance from https://openfast.readthedocs.io/en/main/source/user/fast.farm/ModelGuidance.html\n",
    "'''"
   ]
  },
  {
   "cell_type": "code",
   "execution_count": 2,
   "id": "excessive-roommate",
   "metadata": {},
   "outputs": [],
   "source": [
    "import numpy as np"
   ]
  },
  {
   "cell_type": "markdown",
   "id": "formal-upper",
   "metadata": {},
   "source": [
    "# User input"
   ]
  },
  {
   "cell_type": "code",
   "execution_count": 3,
   "id": "assigned-spelling",
   "metadata": {},
   "outputs": [],
   "source": [
    "# ----------- Wind farm\n",
    "wts  = {\n",
    "          0 :{'x':1280.0,     'y':2560,       'z':0.0,  'D':126.9,  'zhub':86.5, 'cmax':5, 'fmax':10/6, 'Cmeander':1.9, 'name':'T0'},\n",
    "          1 :{'x':1280.0,     'y':3200,       'z':0.0,  'D':126.9,  'zhub':86.5, 'cmax':5, 'fmax':10/6, 'Cmeander':1.9, 'name':'T1'},\n",
    "          2 :{'x':1280.0,     'y':3840,       'z':0.0,  'D':126.9,  'zhub':86.5, 'cmax':5, 'fmax':10/6, 'Cmeander':1.9, 'name':'T2'},\n",
    "        }\n",
    "\n",
    "# ----------- Desired sweeps\n",
    "# inflow_deg = [-5, 0, 5]  # inflow angle sweep. Determines how large the low-res box should be; TODO: Use this input\n",
    "\n",
    "# ----------- Turbine parameters\n",
    "# Set the yaw of each turbine for wind dir. One row for each wind direction.\n",
    "# yaw_init = [ [0,0,0,0,0,0,0,0,0,0,0,0] ]  # TODO: Use this input\n",
    "\n",
    "# ----------- AMR-Wind parameters\n",
    "amr_fixed_dt = 0.25\n",
    "amr_prob_lo = (0.0, 0.0, 0.0)\n",
    "amr_prob_hi = (2560.0, 6400.0, 1280.0)\n",
    "assert (amr_prob_hi[0] > amr_prob_lo[0]) & (amr_prob_hi[1] > amr_prob_lo[1]) & (amr_prob_hi[2] > amr_prob_lo[2]), \"AMR-Wind high/low bounds misspecified!\"\n",
    "amr_n_cell = (256, 640, 128)\n",
    "amr_max_level = 1  # Number of grid refinement levels\n",
    "\n",
    "incflo_velocity_hh = (0.0, 10.0, 0.0)  # Hub-height velocity\n",
    "postproc_name = 'sampling'\n"
   ]
  },
  {
   "cell_type": "code",
   "execution_count": 4,
   "id": "tribal-diana",
   "metadata": {},
   "outputs": [],
   "source": [
    "### Calculate AMR-Wind parameters that will be useful throughout\n",
    "## AMR-Wind resolution\n",
    "amr_dx0 = (amr_prob_hi[0] - amr_prob_lo[0]) / amr_n_cell[0]  # dx for Level 0\n",
    "amr_dy0 = (amr_prob_hi[0] - amr_prob_lo[0]) / amr_n_cell[0]\n",
    "amr_dz0 = (amr_prob_hi[0] - amr_prob_lo[0]) / amr_n_cell[0]\n",
    "amr_ds0_max = max(amr_dx0, amr_dy0, amr_dz0)\n",
    "\n",
    "amr_dx_refine = amr_dx0/(2**amr_max_level)  # dx for the maximum refinement Level\n",
    "amr_dy_refine = amr_dy0/(2**amr_max_level)\n",
    "amr_dz_refine = amr_dz0/(2**amr_max_level)\n",
    "amr_ds_refine_max = max(amr_dx_refine, amr_dy_refine, amr_dz_refine)"
   ]
  },
  {
   "cell_type": "code",
   "execution_count": 5,
   "id": "unable-mapping",
   "metadata": {},
   "outputs": [],
   "source": [
    "### Calculate timestep output values and sampling frequency\n",
    "## Low resolution domain, dt_lr\n",
    "cmeander_min = float(\"inf\")\n",
    "Dwake_min = float(\"inf\")\n",
    "for turbkey in wts:\n",
    "    cmeander_min = min(cmeander_min, wts[turbkey]['Cmeander'])\n",
    "    Dwake_min = min(Dwake_min, wts[turbkey]['D'])  # Approximate D_wake as D_rotor\n",
    "Vhub = np.sqrt(incflo_velocity_hh[0]**2 + incflo_velocity_hh[1]**2)\n",
    "\n",
    "dt_lr_max = cmeander_min * Dwake_min / (10 * Vhub)\n",
    "dt_lr = amr_fixed_dt * np.floor(dt_lr_max/amr_fixed_dt)  # Ensure that dt_lr is a multiple of the AMR-Wind timestep\n",
    "assert dt_lr >= amr_fixed_dt, \"AMR-Wind timestep too coarse for low resolution domain!\"\n",
    "\n",
    "## High resolution domain, dt_hr\n",
    "fmax_max = 0\n",
    "for turbkey in wts:\n",
    "    fmax_max = max(0, wts[turbkey]['fmax'])\n",
    "dt_hr_max = 1 / (2 * fmax_max)\n",
    "dt_hr = amr_fixed_dt * np.floor(dt_hr_max/amr_fixed_dt)  # Ensure that dt_hr is a multiple of the AMR-Wind timestep\n",
    "assert dt_hr >= amr_fixed_dt, \"AMR-Wind timestep too coarse for high resolution domain!\"\n",
    "assert dt_hr <= dt_lr, \"Low resolution timestep is finer than high resolution timestep!\"\n",
    "\n",
    "## Sampling frequency\n",
    "out_output_frequency = int(dt_hr/amr_fixed_dt)"
   ]
  },
  {
   "cell_type": "code",
   "execution_count": 6,
   "id": "female-license",
   "metadata": {},
   "outputs": [],
   "source": [
    "### Calculate grid resolutions\n",
    "## Low resolution domain, ds_lr (s = x/y/z)\n",
    "##   ASSUME: FAST.Farm LR zone uses Level 0 AMR-Wind grid spacing\n",
    "##   NOTE: ds_lr is calculated independent of any x/y/z requirements,\n",
    "##           just time step and velocity requiements\n",
    "ds_lr_max = dt_lr * Vhub**2 / 15\n",
    "ds_lr = amr_ds0_max * np.floor(ds_lr_max/amr_ds0_max)  # Ensure that ds_lr is a multiple of the coarse AMR-Wind grid spacing\n",
    "assert ds_lr >= amr_dx0, \"AMR-Wind Level 0 x-grid spacing too coarse for low resolution domain!\"\n",
    "assert ds_lr >= amr_dy0, \"AMR-Wind Level 0 y-grid spacing too coarse for low resolution domain!\"\n",
    "assert ds_lr >= amr_dz0, \"AMR-Wind Level 0 z-grid spacing too coarse for low resolution domain!\"\n",
    "\n",
    "## High resolution domain, ds_hr\n",
    "##   ASSUME: FAST.Farm HR zone lies within the region of maxmum AMR-Wind grid refinement\n",
    "##   NOTE: ds_hr is calculated independent of any x/y/z requirements,\n",
    "##           just blade chord length requirements\n",
    "cmax_min = float(\"inf\")\n",
    "for turbkey in wts:\n",
    "    cmax_min = min(cmax_min, wts[turbkey]['cmax'])\n",
    "ds_hr_max = cmax_min\n",
    "ds_hr = amr_ds_refine_max * np.floor(ds_hr_max/amr_ds_refine_max)  # Ensure that ds_hr is a multiple of the refined AMR-Wind grid spacing\n",
    "assert ds_hr >= amr_ds_refine_max, \"AMR-Wind grid spacing too coarse for high resolution domain!\""
   ]
  },
  {
   "cell_type": "code",
   "execution_count": 7,
   "id": "threatened-joseph",
   "metadata": {},
   "outputs": [
    {
     "name": "stdout",
     "output_type": "stream",
     "text": [
      "# Sampling info generated by AMRWindSamplingCreation.py\n",
      "incflo.post_processing = sampling # averaging\n",
      "sampling.output_frequency = 1\n",
      "sampling.fields = velocity # temperature tke\n",
      "sampling.labels = Low HighT0_inflow0deg HighT1_inflow0deg HighT2_inflow0deg\n"
     ]
    }
   ],
   "source": [
    "### Calculate high-level info for sampling\n",
    "out_labels = [\"Low\"]\n",
    "for turbkey in wts:\n",
    "    out_labels.append(f\"High{wts[turbkey]['name']}_inflow0deg\")\n",
    "out_labels_str = \" \".join(str(item) for item in out_labels)\n",
    "\n",
    "print(f\"# Sampling info generated by AMRWindSamplingCreation.py\")\n",
    "print(f\"incflo.post_processing = {postproc_name} # averaging\")\n",
    "print(f\"{postproc_name}.output_frequency = {out_output_frequency}\")\n",
    "print(f\"{postproc_name}.fields = velocity # temperature tke\")\n",
    "\n",
    "print(f\"{postproc_name}.labels = {out_labels_str}\")"
   ]
  },
  {
   "cell_type": "code",
   "execution_count": 8,
   "id": "mechanical-agent",
   "metadata": {},
   "outputs": [
    {
     "name": "stdout",
     "output_type": "stream",
     "text": [
      "# Low sampling grid spacing: 10.0 m\n",
      "sampling.Low.type         = PlaneSampler\n",
      "sampling.Low.num_points   = 78 206\n",
      "sampling.Low.origin       = 885.0 2165.0\n",
      "sampling.Low.axis1        = 770.0 0.0 0.0\n",
      "sampling.Low.axis2        = 0.0 2050.0 0.0\n",
      "sampling.Low.normal       = 0.0 0.0 1.0\n",
      "sampling.Low.offsets      = 0 10 20 30 40 50 60 70 80 90 100 110 120 130 140 150 160 170 180 190 200 210 220 230 240 250 260 270 280\n"
     ]
    }
   ],
   "source": [
    "### Calculate low resolution grid placement\n",
    "# Calculate minimum/maximum LR domain extents\n",
    "wt_all_x_min = float(\"inf\")     # Minimum x-value of any turbine\n",
    "wt_all_x_max = -1*float(\"inf\")\n",
    "wt_all_y_min = float(\"inf\")\n",
    "wt_all_y_max = -1*float(\"inf\")\n",
    "wt_all_z_max = -1*float(\"inf\")  # Tallest rotor disk point of any turbine\n",
    "Drot_max = -1*float(\"inf\")\n",
    "for turbkey in wts:\n",
    "    wt_all_x_min = min(wt_all_x_min, wts[turbkey]['x'])\n",
    "    wt_all_x_max = max(wt_all_x_max, wts[turbkey]['x'])\n",
    "    wt_all_y_min = min(wt_all_y_min, wts[turbkey]['y'])\n",
    "    wt_all_y_max = max(wt_all_x_min, wts[turbkey]['y'])\n",
    "    wt_all_z_max = max(wt_all_z_max, wts[turbkey]['zhub'] + 0.5*wts[turbkey]['D'])\n",
    "    Drot_max = max(Drot_max, wts[turbkey]['D'])\n",
    "    \n",
    "x_buffer_lr = 3 * Drot_max\n",
    "y_buffer_lr = 3 * Drot_max\n",
    "z_buffer_lr = 1 * Drot_max\n",
    "xlow_lr_min = wt_all_x_min - x_buffer_lr\n",
    "xhigh_lr_max = wt_all_x_max + x_buffer_lr\n",
    "ylow_lr_min = wt_all_y_min - y_buffer_lr\n",
    "yhigh_lr_max = wt_all_y_max + y_buffer_lr\n",
    "zhigh_lr_max = wt_all_z_max + z_buffer_lr\n",
    "\n",
    "# Calculate the minimum/maximum LR domain coordinate lengths & number of grid cells\n",
    "xdist_lr_min = xhigh_lr_max - xlow_lr_min  # Minumum possible length of x-extent of LR domain\n",
    "xdist_lr = ds_lr * np.ceil(xdist_lr_min/ds_lr)  # The `+ ds_lr` comes from the +1 to NS_LOW in Sec. 4.2.15.6.4.1.1\n",
    "# TODO: adjust xdist_lr calculation by also using `inflow_deg`\n",
    "nx_lr = int(xdist_lr/ds_lr) + 1\n",
    "\n",
    "ydist_lr_min = yhigh_lr_max - ylow_lr_min\n",
    "ydist_lr = ds_lr * np.ceil(ydist_lr_min/ds_lr)\n",
    "# TODO: adjust ydist_lr calculation by also using `inflow_deg`\n",
    "ny_lr = int(ydist_lr/ds_lr) + 1\n",
    "\n",
    "zdist_lr = ds_lr * np.ceil(zhigh_lr_max/ds_lr)\n",
    "nz_lr = int(zdist_lr/ds_lr) + 1\n",
    "\n",
    "# Calculate actual LR domain extent\n",
    "#  NOTE: Sampling planes should measure at AMR-Wind cell centers, not cell edges\n",
    "#  NOTE: Should I be using dx/dy/dz values here or ds_lr?\n",
    "#          - I think it's correct to use ds_lr to get to the xlow values,\n",
    "#              but then offset by 0.5*amr_dx0\n",
    "xlow_lr = ds_lr * np.floor(xlow_lr_min/ds_lr) - 0.5*amr_dx0\n",
    "xhigh_lr = xlow_lr + xdist_lr\n",
    "ylow_lr = ds_lr * np.floor(ylow_lr_min/ds_lr) - 0.5*amr_dy0\n",
    "yhigh_lr = ylow_lr + ydist_lr\n",
    "zlow_lr = 0.5 * amr_dz0  # Lowest z point is half the height of the lowest grid cell\n",
    "zhigh_lr = zlow_lr + zdist_lr\n",
    "zoffsets_lr = np.arange(zlow_lr, zhigh_lr+ds_lr, ds_lr) - zlow_lr\n",
    "zoffsets_lr_str = \" \".join(str(int(item)) for item in zoffsets_lr)\n",
    "\n",
    "assert xhigh_lr < amr_prob_hi[0], \"LR domain extends beyond maximum AMR-Wind x-extent!\"\n",
    "assert xlow_lr > amr_prob_lo[0], \"LR domain extends beyond minimum AMR-Wind x-extent!\"\n",
    "assert yhigh_lr < amr_prob_hi[1], \"LR domain extends beyond maximum AMR-Wind y-extent!\"\n",
    "assert ylow_lr > amr_prob_lo[1], \"LR domain extends beyond minimum AMR-Wind y-extent!\"\n",
    "assert zhigh_lr < amr_prob_hi[2], \"LR domain extends beyond maximum AMR-Wind z-extent!\"\n",
    "assert zlow_lr > amr_prob_lo[2], \"LR domain extends beyond minimum AMR-Wind z-extent!\"\n",
    "\n",
    "# Reformat info for AMR-Wind input file\n",
    "print(f\"# Low sampling grid spacing: {ds_lr} m\")\n",
    "print(f\"{postproc_name}.Low.type         = PlaneSampler\")\n",
    "print(f\"{postproc_name}.Low.num_points   = {nx_lr} {ny_lr}\")\n",
    "print(f\"{postproc_name}.Low.origin       = {xlow_lr:.1f} {ylow_lr:.1f}\")  # Round the float output\n",
    "print(f\"{postproc_name}.Low.axis1        = {xdist_lr:.1f} 0.0 0.0\")  # Assume: axis1 oriented parallel to AMR-Wind x-axis\n",
    "print(f\"{postproc_name}.Low.axis2        = 0.0 {ydist_lr:.1f} 0.0\")  # Assume: axis2 oriented parallel to AMR-Wind y-axis\n",
    "print(f\"{postproc_name}.Low.normal       = 0.0 0.0 1.0\")\n",
    "print(f\"{postproc_name}.Low.offsets      = {zoffsets_lr_str}\")"
   ]
  },
  {
   "cell_type": "code",
   "execution_count": 9,
   "id": "overhead-hypothesis",
   "metadata": {},
   "outputs": [
    {
     "name": "stdout",
     "output_type": "stream",
     "text": [
      "# Turbine T0 at (x,y) = (1280.0, 2560), with D = 126.9, grid spacing = 5.0\n",
      "sampling.T0.type         = PlaneSampler\n",
      "sampling.T0.num_points   = 32 32\n",
      "sampling.T0.origin       = 1197.5 2477.5\n",
      "sampling.T0.axis1        = 155.0 0.0 0.0\n",
      "sampling.T0.axis2        = 0.0 155.0 0.0\n",
      "sampling.T0.normal       = 0.0 0.0 1.0\n",
      "sampling.T0.offsets      = 0 5 10 15 20 25 30 35 40 45 50 55 60 65 70 75 80 85 90 95 100 105 110 115 120 125 130 135 140 145 150 155 160 165 170 175 180 185 190 195 200 205 210 215 220 225 230\n"
     ]
    }
   ],
   "source": [
    "### Calculate high resolution grid placements\n",
    "turbkey = 0\n",
    "wt_x = wts[turbkey]['x']\n",
    "wt_y = wts[turbkey]['y']\n",
    "wt_z = wts[turbkey]['zhub'] + 0.5*wts[turbkey]['D']\n",
    "wt_D = wts[turbkey]['D']\n",
    "wt_name = wts[turbkey]['name']\n",
    "\n",
    "# Calculate minimum/maximum HR domain extents\n",
    "x_buffer_hr = 0.6 * wt_D\n",
    "y_buffer_hr = 0.6 * wt_D\n",
    "z_buffer_hr = 0.6 * wt_D\n",
    "\n",
    "xlow_hr_min = wt_x - x_buffer_hr\n",
    "xhigh_hr_max = wt_x + x_buffer_hr\n",
    "ylow_hr_min = wt_y - y_buffer_hr\n",
    "yhigh_hr_max = wt_y + y_buffer_hr\n",
    "zhigh_hr_max = wt_z + z_buffer_hr\n",
    "\n",
    "# Calculate the minimum/maximum HR domain coordinate lengths & number of grid cells\n",
    "xdist_hr_min = xhigh_hr_max - xlow_hr_min  # Minumum possible length of x-extent of HR domain\n",
    "xdist_hr = ds_hr * np.ceil(xdist_hr_min/ds_hr)  \n",
    "nx_hr = int(xdist_hr/ds_hr) + 1\n",
    "\n",
    "ydist_hr_min = yhigh_hr_max - ylow_hr_min\n",
    "ydist_hr = ds_hr * np.ceil(ydist_hr_min/ds_hr)\n",
    "ny_hr = int(ydist_hr/ds_hr) + 1\n",
    "\n",
    "zdist_hr = ds_hr * np.ceil(zhigh_hr_max/ds_hr)\n",
    "nz_hr = int(zdist_hr/ds_hr) + 1\n",
    "\n",
    "# Calculate actual HR domain extent\n",
    "#  NOTE: Sampling planes should measure at AMR-Wind cell centers, not cell edges\n",
    "xlow_hr = ds_hr * np.floor(xlow_hr_min/ds_hr) - 0.5*amr_dx_refine\n",
    "xhigh_hr = xlow_hr + xdist_hr\n",
    "ylow_hr = ds_hr * np.floor(ylow_hr_min/ds_hr) - 0.5*amr_dy_refine\n",
    "yhigh_hr = ylow_hr + ydist_hr\n",
    "zlow_hr = zlow_lr\n",
    "zhigh_hr = zlow_hr + zdist_hr\n",
    "zoffsets_hr = np.arange(zlow_hr, zhigh_hr+ds_hr, ds_hr) - zlow_hr\n",
    "zoffsets_hr_str = \" \".join(str(int(item)) for item in zoffsets_hr)\n",
    "\n",
    "assert xhigh_hr < amr_prob_hi[0], f\"HR domain for {wt_name} extends beyond maximum AMR-Wind x-extent!\"\n",
    "assert xlow_hr > amr_prob_lo[0], f\"HR domain for {wt_name} extends beyond minimum AMR-Wind x-extent!\"\n",
    "assert yhigh_hr < amr_prob_hi[1], f\"HR domain for {wt_name} extends beyond maximum AMR-Wind y-extent!\"\n",
    "assert ylow_hr > amr_prob_lo[1], f\"HR domain for {wt_name} extends beyond minimum AMR-Wind y-extent!\"\n",
    "assert zhigh_hr < amr_prob_hi[2], f\"HR domain for {wt_name} extends beyond maximum AMR-Wind z-extent!\"\n",
    "assert zlow_hr > amr_prob_lo[2], f\"HR domain for {wt_name} extends beyond minimum AMR-Wind z-extent!\"\n",
    "\n",
    "# Reformat info for AMR-Wind input file\n",
    "print(f\"# Turbine {wt_name} at (x,y) = ({wt_x}, {wt_y}), with D = {wt_D}, grid spacing = {ds_hr}\")\n",
    "print(f\"{postproc_name}.{wt_name}.type         = PlaneSampler\")\n",
    "print(f\"{postproc_name}.{wt_name}.num_points   = {nx_hr} {ny_hr}\")\n",
    "print(f\"{postproc_name}.{wt_name}.origin       = {xlow_hr:.1f} {ylow_hr:.1f}\")  # Round the float output\n",
    "print(f\"{postproc_name}.{wt_name}.axis1        = {xdist_hr:.1f} 0.0 0.0\")  # Assume: axis1 oriented parallel to AMR-Wind x-axis\n",
    "print(f\"{postproc_name}.{wt_name}.axis2        = 0.0 {ydist_hr:.1f} 0.0\")  # Assume: axis2 oriented parallel to AMR-Wind y-axis\n",
    "print(f\"{postproc_name}.{wt_name}.normal       = 0.0 0.0 1.0\")\n",
    "print(f\"{postproc_name}.{wt_name}.offsets      = {zoffsets_hr_str}\")"
   ]
  },
  {
   "cell_type": "code",
   "execution_count": null,
   "id": "classical-portland",
   "metadata": {},
   "outputs": [],
   "source": []
  }
 ],
 "metadata": {
  "kernelspec": {
   "display_name": "wfp",
   "language": "python",
   "name": "wfp"
  },
  "language_info": {
   "codemirror_mode": {
    "name": "ipython",
    "version": 3
   },
   "file_extension": ".py",
   "mimetype": "text/x-python",
   "name": "python",
   "nbconvert_exporter": "python",
   "pygments_lexer": "ipython3",
   "version": "3.7.10"
  }
 },
 "nbformat": 4,
 "nbformat_minor": 5
}
